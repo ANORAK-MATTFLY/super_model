{
 "cells": [
  {
   "cell_type": "code",
   "execution_count": null,
   "id": "81e97844",
   "metadata": {},
   "outputs": [],
   "source": [
    "import numpy as np\n",
    "import cv2\n",
    "import os\n",
    "from random import shuffle\n",
    "from tqdm import tqdm\n",
    "\n",
    "\n",
    "\n",
    "TRAIN_DIR = '\"./data/train/train/\"'\n",
    "TEST_DIR = './data/test/test'\n",
    "IMG_SIZE = 50\n",
    "LR = 1e-3\n",
    "MODEL_NAME = 'dogsvscats-{}-{}.model'.format(LR, '2conv-basic')\n"
   ]
  },
  {
   "cell_type": "code",
   "execution_count": null,
   "id": "9c237753",
   "metadata": {},
   "outputs": [],
   "source": [
    "def label_img(img):\n",
    "    word_label = img.split('.')[-3]\n",
    "    if word_label == 'cat':\n",
    "        return [1, 0]\n",
    "    elif word_label == 'dog':\n",
    "        return [0, 1]\n",
    "    else:\n",
    "        raise ValueError(\"Image label not recognized: {}\".format(word_label))"
   ]
  },
  {
   "cell_type": "code",
   "execution_count": null,
   "id": "395d317f",
   "metadata": {},
   "outputs": [],
   "source": [
    "def create_training_data():\n",
    "    training_data = []\n",
    "    \n",
    "    for img in tqdm(os.listdir(\"./data/train/train/\")):\n",
    "        label = label_img(img)\n",
    "        path = os.path.join(\"./data/train/train/\", img)\n",
    "        img_data = cv2.imread(path, cv2.IMREAD_GRAYSCALE)\n",
    "        if img_data is not None:\n",
    "            img_data = cv2.resize(img_data, (IMG_SIZE, IMG_SIZE))\n",
    "            training_data.append([np.array(img_data), np.array(label)])\n",
    "        else:\n",
    "            print(f\"Warning: {path} could not be read. Skipping this image.\")\n",
    "            continue\n",
    "\n",
    "    shuffle(training_data)\n",
    "    np.save(file=\"image_training_data.npy\", arr=np.array(training_data, dtype=object), allow_pickle=True)\n",
    "    return training_data    \n",
    "train_data = create_training_data()\n"
   ]
  },
  {
   "cell_type": "code",
   "execution_count": null,
   "id": "2749b4ec",
   "metadata": {},
   "outputs": [],
   "source": [
    "from os import path\n",
    "\n",
    "\n",
    "def process_image(img):\n",
    "    testing_data = []\n",
    "    for img in tqdm(os.listdir(\"./data/test/test/\")):\n",
    "        # if not img.endswith('.jpg'):\n",
    "        #     continue\n",
    "        path = os.path.join(\"./data/test/test/\", img)\n",
    "        img_num = img.split('.')[0]\n",
    "        img_data = cv2.imread(path, cv2.IMREAD_GRAYSCALE)\n",
    "        if img_data is not None:\n",
    "            img_data = cv2.resize(img_data, (IMG_SIZE, IMG_SIZE))\n",
    "            testing_data.append([np.array(img_data), img_num])\n",
    "        else:\n",
    "            print(f\"Warning: {path} could not be read. Skipping this image.\")\n",
    "            continue\n",
    "    np.save(file=\"image_testing_data.npy\", arr=np.array(testing_data, dtype=object), allow_pickle=True)\n",
    "    return testing_data"
   ]
  },
  {
   "cell_type": "code",
   "execution_count": null,
   "id": "e309c931",
   "metadata": {},
   "outputs": [],
   "source": []
  }
 ],
 "metadata": {
  "kernelspec": {
   "display_name": "env",
   "language": "python",
   "name": "python3"
  },
  "language_info": {
   "codemirror_mode": {
    "name": "ipython",
    "version": 3
   },
   "file_extension": ".py",
   "mimetype": "text/x-python",
   "name": "python",
   "nbconvert_exporter": "python",
   "pygments_lexer": "ipython3",
   "version": "3.10.12"
  }
 },
 "nbformat": 4,
 "nbformat_minor": 5
}
